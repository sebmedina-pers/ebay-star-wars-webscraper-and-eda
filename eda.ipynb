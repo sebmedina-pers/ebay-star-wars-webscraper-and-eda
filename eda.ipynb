{
 "cells": [
  {
   "attachments": {},
   "cell_type": "markdown",
   "metadata": {},
   "source": [
    "## Libraries / Setup"
   ]
  },
  {
   "cell_type": "code",
   "execution_count": 4,
   "metadata": {},
   "outputs": [
    {
     "name": "stdout",
     "output_type": "stream",
     "text": [
      "Collecting plotly\n",
      "  Downloading plotly-5.13.0-py2.py3-none-any.whl (15.2 MB)\n",
      "\u001b[K     |████████████████████████████████| 15.2 MB 8.2 MB/s eta 0:00:01\n",
      "\u001b[?25hCollecting tenacity>=6.2.0\n",
      "  Downloading tenacity-8.2.1-py3-none-any.whl (24 kB)\n",
      "Installing collected packages: tenacity, plotly\n",
      "Successfully installed plotly-5.13.0 tenacity-8.2.1\n",
      "Note: you may need to restart the kernel to use updated packages.\n"
     ]
    }
   ],
   "source": [
    "pip install plotly"
   ]
  },
  {
   "cell_type": "code",
   "execution_count": 13,
   "metadata": {},
   "outputs": [],
   "source": [
    "import pandas as pd\n",
    "import numpy as np\n",
    "import matplotlib.pyplot as plt\n",
    "import seaborn as sns\n",
    "import plotly.express as px"
   ]
  },
  {
   "attachments": {},
   "cell_type": "markdown",
   "metadata": {},
   "source": [
    "## Init Dataframe"
   ]
  },
  {
   "cell_type": "code",
   "execution_count": 6,
   "metadata": {},
   "outputs": [
    {
     "data": {
      "text/html": [
       "<div>\n",
       "<style scoped>\n",
       "    .dataframe tbody tr th:only-of-type {\n",
       "        vertical-align: middle;\n",
       "    }\n",
       "\n",
       "    .dataframe tbody tr th {\n",
       "        vertical-align: top;\n",
       "    }\n",
       "\n",
       "    .dataframe thead th {\n",
       "        text-align: right;\n",
       "    }\n",
       "</style>\n",
       "<table border=\"1\" class=\"dataframe\">\n",
       "  <thead>\n",
       "    <tr style=\"text-align: right;\">\n",
       "      <th></th>\n",
       "      <th>product_name</th>\n",
       "      <th>price</th>\n",
       "      <th>country</th>\n",
       "      <th>condition</th>\n",
       "      <th>shipping_cost</th>\n",
       "      <th>demand_status</th>\n",
       "      <th>url</th>\n",
       "    </tr>\n",
       "  </thead>\n",
       "  <tbody>\n",
       "    <tr>\n",
       "      <th>0</th>\n",
       "      <td>🔥Star Wars Vintage Collection ARC Commander Ha...</td>\n",
       "      <td>$32.90</td>\n",
       "      <td>from Malaysia</td>\n",
       "      <td>Brand New</td>\n",
       "      <td>+$18.00 shipping</td>\n",
       "      <td>Last one</td>\n",
       "      <td>https://www.ebay.com/itm/144937682104?hash=ite...</td>\n",
       "    </tr>\n",
       "    <tr>\n",
       "      <th>1</th>\n",
       "      <td>Star Wars Vintage Collection Mandalorian Super...</td>\n",
       "      <td>$19.99</td>\n",
       "      <td>from United States</td>\n",
       "      <td>Brand New</td>\n",
       "      <td>+$13.35 shipping</td>\n",
       "      <td>85 sold</td>\n",
       "      <td>https://www.ebay.com/itm/394251731939?epid=190...</td>\n",
       "    </tr>\n",
       "    <tr>\n",
       "      <th>2</th>\n",
       "      <td>Star Wars Vintage Collection Dark Trooper (The...</td>\n",
       "      <td>$28.99</td>\n",
       "      <td>from United States</td>\n",
       "      <td>Brand New</td>\n",
       "      <td>+$18.70 shipping</td>\n",
       "      <td>71 watchers</td>\n",
       "      <td>https://www.ebay.com/itm/125700558379?hash=ite...</td>\n",
       "    </tr>\n",
       "    <tr>\n",
       "      <th>3</th>\n",
       "      <td>Star Wars Vintage Collection Deathwatch Mandal...</td>\n",
       "      <td>$15.49</td>\n",
       "      <td>from United States</td>\n",
       "      <td>Brand New</td>\n",
       "      <td>+$13.28 shipping</td>\n",
       "      <td>Almost gone</td>\n",
       "      <td>https://www.ebay.com/itm/125636022875?hash=ite...</td>\n",
       "    </tr>\n",
       "    <tr>\n",
       "      <th>4</th>\n",
       "      <td>STAR WARS Vintage Collection VC34 Jango Fett A...</td>\n",
       "      <td>$141.50</td>\n",
       "      <td>from United States</td>\n",
       "      <td>Brand New</td>\n",
       "      <td>+$25.17 shipping</td>\n",
       "      <td>NaN</td>\n",
       "      <td>https://www.ebay.com/itm/295529080278?hash=ite...</td>\n",
       "    </tr>\n",
       "  </tbody>\n",
       "</table>\n",
       "</div>"
      ],
      "text/plain": [
       "                                        product_name    price  \\\n",
       "0  🔥Star Wars Vintage Collection ARC Commander Ha...   $32.90   \n",
       "1  Star Wars Vintage Collection Mandalorian Super...   $19.99   \n",
       "2  Star Wars Vintage Collection Dark Trooper (The...   $28.99   \n",
       "3  Star Wars Vintage Collection Deathwatch Mandal...   $15.49   \n",
       "4  STAR WARS Vintage Collection VC34 Jango Fett A...  $141.50   \n",
       "\n",
       "              country  condition     shipping_cost demand_status  \\\n",
       "0       from Malaysia  Brand New  +$18.00 shipping      Last one   \n",
       "1  from United States  Brand New  +$13.35 shipping       85 sold   \n",
       "2  from United States  Brand New  +$18.70 shipping   71 watchers   \n",
       "3  from United States  Brand New  +$13.28 shipping   Almost gone   \n",
       "4  from United States  Brand New  +$25.17 shipping           NaN   \n",
       "\n",
       "                                                 url  \n",
       "0  https://www.ebay.com/itm/144937682104?hash=ite...  \n",
       "1  https://www.ebay.com/itm/394251731939?epid=190...  \n",
       "2  https://www.ebay.com/itm/125700558379?hash=ite...  \n",
       "3  https://www.ebay.com/itm/125636022875?hash=ite...  \n",
       "4  https://www.ebay.com/itm/295529080278?hash=ite...  "
      ]
     },
     "execution_count": 6,
     "metadata": {},
     "output_type": "execute_result"
    }
   ],
   "source": [
    "df = pd.read_csv(\"starwars_ebay/starwars_ebay.csv\")\n",
    "df.head()"
   ]
  },
  {
   "attachments": {},
   "cell_type": "markdown",
   "metadata": {},
   "source": [
    "### Fields/Columns"
   ]
  },
  {
   "cell_type": "code",
   "execution_count": 10,
   "metadata": {},
   "outputs": [
    {
     "data": {
      "text/plain": [
       "Index(['product_name', 'price', 'country', 'condition', 'shipping_cost',\n",
       "       'demand_status', 'url'],\n",
       "      dtype='object')"
      ]
     },
     "execution_count": 10,
     "metadata": {},
     "output_type": "execute_result"
    }
   ],
   "source": [
    "df.columns"
   ]
  },
  {
   "cell_type": "code",
   "execution_count": 11,
   "metadata": {},
   "outputs": [
    {
     "name": "stdout",
     "output_type": "stream",
     "text": [
      "<class 'pandas.core.frame.DataFrame'>\n",
      "RangeIndex: 10020 entries, 0 to 10019\n",
      "Data columns (total 7 columns):\n",
      " #   Column         Non-Null Count  Dtype \n",
      "---  ------         --------------  ----- \n",
      " 0   product_name   10020 non-null  object\n",
      " 1   price          10020 non-null  object\n",
      " 2   country        10020 non-null  object\n",
      " 3   condition      10020 non-null  object\n",
      " 4   shipping_cost  10019 non-null  object\n",
      " 5   demand_status  1842 non-null   object\n",
      " 6   url            10020 non-null  object\n",
      "dtypes: object(7)\n",
      "memory usage: 548.1+ KB\n"
     ]
    }
   ],
   "source": [
    "df.info()"
   ]
  },
  {
   "attachments": {},
   "cell_type": "markdown",
   "metadata": {},
   "source": [
    "### Null Values"
   ]
  },
  {
   "cell_type": "code",
   "execution_count": 18,
   "metadata": {},
   "outputs": [
    {
     "data": {
      "text/plain": [
       "product_name        0\n",
       "price               0\n",
       "country             0\n",
       "condition           0\n",
       "shipping_cost       1\n",
       "demand_status    8178\n",
       "url                 0\n",
       "dtype: int64"
      ]
     },
     "execution_count": 18,
     "metadata": {},
     "output_type": "execute_result"
    }
   ],
   "source": [
    "df.isna().sum()"
   ]
  },
  {
   "cell_type": "code",
   "execution_count": 20,
   "metadata": {},
   "outputs": [
    {
     "name": "stdout",
     "output_type": "stream",
     "text": [
      "Total records in df: 10020\n"
     ]
    }
   ],
   "source": [
    "n_df = len(df[\"product_name\"])\n",
    "print(f\"Total records in df: {n_df}\")"
   ]
  },
  {
   "cell_type": "code",
   "execution_count": 24,
   "metadata": {},
   "outputs": [
    {
     "name": "stdout",
     "output_type": "stream",
     "text": [
      "demand_status has the highest NaNs in dataset (81.62%)\n"
     ]
    }
   ],
   "source": [
    "demand_status_nan_perc = df[\"demand_status\"].isna().sum() / n_df\n",
    "print(f\"demand_status has the highest NaNs in dataset ({round(100*demand_status_nan_perc, 2)}%)\")"
   ]
  },
  {
   "attachments": {},
   "cell_type": "markdown",
   "metadata": {},
   "source": [
    "_We can see that **demand_status** has the highest NaNs in the dataset but we'll leave it like that to see if we can get some extra insights for when we do have demand statuses available_"
   ]
  },
  {
   "attachments": {},
   "cell_type": "markdown",
   "metadata": {},
   "source": [
    "### Field check & cleanup"
   ]
  },
  {
   "attachments": {},
   "cell_type": "markdown",
   "metadata": {},
   "source": [
    "#### Condition"
   ]
  },
  {
   "cell_type": "code",
   "execution_count": 33,
   "metadata": {},
   "outputs": [
    {
     "data": {
      "text/html": [
       "<div>\n",
       "<style scoped>\n",
       "    .dataframe tbody tr th:only-of-type {\n",
       "        vertical-align: middle;\n",
       "    }\n",
       "\n",
       "    .dataframe tbody tr th {\n",
       "        vertical-align: top;\n",
       "    }\n",
       "\n",
       "    .dataframe thead th {\n",
       "        text-align: right;\n",
       "    }\n",
       "</style>\n",
       "<table border=\"1\" class=\"dataframe\">\n",
       "  <thead>\n",
       "    <tr style=\"text-align: right;\">\n",
       "      <th></th>\n",
       "      <th>index</th>\n",
       "      <th>condition</th>\n",
       "    </tr>\n",
       "  </thead>\n",
       "  <tbody>\n",
       "    <tr>\n",
       "      <th>0</th>\n",
       "      <td>Brand New</td>\n",
       "      <td>8671</td>\n",
       "    </tr>\n",
       "    <tr>\n",
       "      <th>1</th>\n",
       "      <td>Pre-Owned</td>\n",
       "      <td>1349</td>\n",
       "    </tr>\n",
       "  </tbody>\n",
       "</table>\n",
       "</div>"
      ],
      "text/plain": [
       "       index  condition\n",
       "0  Brand New       8671\n",
       "1  Pre-Owned       1349"
      ]
     },
     "execution_count": 33,
     "metadata": {},
     "output_type": "execute_result"
    }
   ],
   "source": [
    "# get frequency of conditions\n",
    "condition_freqs = df.condition.value_counts()\n",
    "df_condition_freqs = pd.DataFrame(condition_freqs).reset_index()\n",
    "df_condition_freqs"
   ]
  },
  {
   "cell_type": "code",
   "execution_count": null,
   "metadata": {},
   "outputs": [],
   "source": []
  },
  {
   "cell_type": "code",
   "execution_count": null,
   "metadata": {},
   "outputs": [],
   "source": []
  },
  {
   "attachments": {},
   "cell_type": "markdown",
   "metadata": {},
   "source": [
    "#### Price"
   ]
  },
  {
   "cell_type": "markdown",
   "metadata": {},
   "source": []
  }
 ],
 "metadata": {
  "kernelspec": {
   "display_name": "base",
   "language": "python",
   "name": "python3"
  },
  "language_info": {
   "codemirror_mode": {
    "name": "ipython",
    "version": 3
   },
   "file_extension": ".py",
   "mimetype": "text/x-python",
   "name": "python",
   "nbconvert_exporter": "python",
   "pygments_lexer": "ipython3",
   "version": "3.9.7"
  },
  "orig_nbformat": 4,
  "vscode": {
   "interpreter": {
    "hash": "ffbc204dd653463d8c4ec77a03b1902ad377393a45d21ba8b6b08777766eebb0"
   }
  }
 },
 "nbformat": 4,
 "nbformat_minor": 2
}
