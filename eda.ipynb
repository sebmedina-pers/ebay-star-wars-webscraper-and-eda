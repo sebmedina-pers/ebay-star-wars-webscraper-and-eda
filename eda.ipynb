{
 "cells": [
  {
   "attachments": {},
   "cell_type": "markdown",
   "metadata": {},
   "source": [
    "## Libraries / Setup"
   ]
  },
  {
   "cell_type": "code",
   "execution_count": 2,
   "metadata": {},
   "outputs": [
    {
     "name": "stdout",
     "output_type": "stream",
     "text": [
      "Requirement already satisfied: plotly in /Users/sebastianmedina/opt/anaconda3/lib/python3.9/site-packages (5.13.0)\n",
      "Requirement already satisfied: tenacity>=6.2.0 in /Users/sebastianmedina/opt/anaconda3/lib/python3.9/site-packages (from plotly) (8.2.1)\n",
      "Note: you may need to restart the kernel to use updated packages.\n"
     ]
    }
   ],
   "source": [
    "pip install plotly"
   ]
  },
  {
   "cell_type": "code",
   "execution_count": 3,
   "metadata": {},
   "outputs": [],
   "source": [
    "import pandas as pd\n",
    "import numpy as np\n",
    "import matplotlib.pyplot as plt\n",
    "import seaborn as sns\n",
    "import plotly.express as px"
   ]
  },
  {
   "attachments": {},
   "cell_type": "markdown",
   "metadata": {},
   "source": [
    "## Init Dataframe"
   ]
  },
  {
   "cell_type": "code",
   "execution_count": 4,
   "metadata": {},
   "outputs": [
    {
     "data": {
      "text/html": [
       "<div>\n",
       "<style scoped>\n",
       "    .dataframe tbody tr th:only-of-type {\n",
       "        vertical-align: middle;\n",
       "    }\n",
       "\n",
       "    .dataframe tbody tr th {\n",
       "        vertical-align: top;\n",
       "    }\n",
       "\n",
       "    .dataframe thead th {\n",
       "        text-align: right;\n",
       "    }\n",
       "</style>\n",
       "<table border=\"1\" class=\"dataframe\">\n",
       "  <thead>\n",
       "    <tr style=\"text-align: right;\">\n",
       "      <th></th>\n",
       "      <th>product_name</th>\n",
       "      <th>price</th>\n",
       "      <th>country</th>\n",
       "      <th>condition</th>\n",
       "      <th>shipping_cost</th>\n",
       "      <th>demand_status</th>\n",
       "      <th>url</th>\n",
       "    </tr>\n",
       "  </thead>\n",
       "  <tbody>\n",
       "    <tr>\n",
       "      <th>0</th>\n",
       "      <td>🔥Star Wars Vintage Collection ARC Commander Ha...</td>\n",
       "      <td>$32.90</td>\n",
       "      <td>from Malaysia</td>\n",
       "      <td>Brand New</td>\n",
       "      <td>+$18.00 shipping</td>\n",
       "      <td>Last one</td>\n",
       "      <td>https://www.ebay.com/itm/144937682104?hash=ite...</td>\n",
       "    </tr>\n",
       "    <tr>\n",
       "      <th>1</th>\n",
       "      <td>Star Wars Vintage Collection Mandalorian Super...</td>\n",
       "      <td>$19.99</td>\n",
       "      <td>from United States</td>\n",
       "      <td>Brand New</td>\n",
       "      <td>+$13.35 shipping</td>\n",
       "      <td>85 sold</td>\n",
       "      <td>https://www.ebay.com/itm/394251731939?epid=190...</td>\n",
       "    </tr>\n",
       "    <tr>\n",
       "      <th>2</th>\n",
       "      <td>Star Wars Vintage Collection Dark Trooper (The...</td>\n",
       "      <td>$28.99</td>\n",
       "      <td>from United States</td>\n",
       "      <td>Brand New</td>\n",
       "      <td>+$18.70 shipping</td>\n",
       "      <td>71 watchers</td>\n",
       "      <td>https://www.ebay.com/itm/125700558379?hash=ite...</td>\n",
       "    </tr>\n",
       "    <tr>\n",
       "      <th>3</th>\n",
       "      <td>Star Wars Vintage Collection Deathwatch Mandal...</td>\n",
       "      <td>$15.49</td>\n",
       "      <td>from United States</td>\n",
       "      <td>Brand New</td>\n",
       "      <td>+$13.28 shipping</td>\n",
       "      <td>Almost gone</td>\n",
       "      <td>https://www.ebay.com/itm/125636022875?hash=ite...</td>\n",
       "    </tr>\n",
       "    <tr>\n",
       "      <th>4</th>\n",
       "      <td>STAR WARS Vintage Collection VC34 Jango Fett A...</td>\n",
       "      <td>$141.50</td>\n",
       "      <td>from United States</td>\n",
       "      <td>Brand New</td>\n",
       "      <td>+$25.17 shipping</td>\n",
       "      <td>NaN</td>\n",
       "      <td>https://www.ebay.com/itm/295529080278?hash=ite...</td>\n",
       "    </tr>\n",
       "  </tbody>\n",
       "</table>\n",
       "</div>"
      ],
      "text/plain": [
       "                                        product_name    price  \\\n",
       "0  🔥Star Wars Vintage Collection ARC Commander Ha...   $32.90   \n",
       "1  Star Wars Vintage Collection Mandalorian Super...   $19.99   \n",
       "2  Star Wars Vintage Collection Dark Trooper (The...   $28.99   \n",
       "3  Star Wars Vintage Collection Deathwatch Mandal...   $15.49   \n",
       "4  STAR WARS Vintage Collection VC34 Jango Fett A...  $141.50   \n",
       "\n",
       "              country  condition     shipping_cost demand_status  \\\n",
       "0       from Malaysia  Brand New  +$18.00 shipping      Last one   \n",
       "1  from United States  Brand New  +$13.35 shipping       85 sold   \n",
       "2  from United States  Brand New  +$18.70 shipping   71 watchers   \n",
       "3  from United States  Brand New  +$13.28 shipping   Almost gone   \n",
       "4  from United States  Brand New  +$25.17 shipping           NaN   \n",
       "\n",
       "                                                 url  \n",
       "0  https://www.ebay.com/itm/144937682104?hash=ite...  \n",
       "1  https://www.ebay.com/itm/394251731939?epid=190...  \n",
       "2  https://www.ebay.com/itm/125700558379?hash=ite...  \n",
       "3  https://www.ebay.com/itm/125636022875?hash=ite...  \n",
       "4  https://www.ebay.com/itm/295529080278?hash=ite...  "
      ]
     },
     "execution_count": 4,
     "metadata": {},
     "output_type": "execute_result"
    }
   ],
   "source": [
    "df = pd.read_csv(\"starwars_ebay/starwars_ebay.csv\")\n",
    "df.head()"
   ]
  },
  {
   "attachments": {},
   "cell_type": "markdown",
   "metadata": {},
   "source": [
    "### Fields/Columns"
   ]
  },
  {
   "cell_type": "code",
   "execution_count": 5,
   "metadata": {},
   "outputs": [
    {
     "data": {
      "text/plain": [
       "Index(['product_name', 'price', 'country', 'condition', 'shipping_cost',\n",
       "       'demand_status', 'url'],\n",
       "      dtype='object')"
      ]
     },
     "execution_count": 5,
     "metadata": {},
     "output_type": "execute_result"
    }
   ],
   "source": [
    "df.columns"
   ]
  },
  {
   "cell_type": "code",
   "execution_count": 6,
   "metadata": {},
   "outputs": [
    {
     "name": "stdout",
     "output_type": "stream",
     "text": [
      "<class 'pandas.core.frame.DataFrame'>\n",
      "RangeIndex: 10020 entries, 0 to 10019\n",
      "Data columns (total 7 columns):\n",
      " #   Column         Non-Null Count  Dtype \n",
      "---  ------         --------------  ----- \n",
      " 0   product_name   10020 non-null  object\n",
      " 1   price          10020 non-null  object\n",
      " 2   country        10020 non-null  object\n",
      " 3   condition      10020 non-null  object\n",
      " 4   shipping_cost  10019 non-null  object\n",
      " 5   demand_status  1842 non-null   object\n",
      " 6   url            10020 non-null  object\n",
      "dtypes: object(7)\n",
      "memory usage: 548.1+ KB\n"
     ]
    }
   ],
   "source": [
    "df.info()"
   ]
  },
  {
   "attachments": {},
   "cell_type": "markdown",
   "metadata": {},
   "source": [
    "### Null Values"
   ]
  },
  {
   "cell_type": "code",
   "execution_count": 7,
   "metadata": {},
   "outputs": [
    {
     "data": {
      "text/plain": [
       "product_name        0\n",
       "price               0\n",
       "country             0\n",
       "condition           0\n",
       "shipping_cost       1\n",
       "demand_status    8178\n",
       "url                 0\n",
       "dtype: int64"
      ]
     },
     "execution_count": 7,
     "metadata": {},
     "output_type": "execute_result"
    }
   ],
   "source": [
    "df.isna().sum()"
   ]
  },
  {
   "cell_type": "code",
   "execution_count": 8,
   "metadata": {},
   "outputs": [
    {
     "name": "stdout",
     "output_type": "stream",
     "text": [
      "Total records in df: 10020\n"
     ]
    }
   ],
   "source": [
    "n_df = len(df[\"product_name\"])\n",
    "print(f\"Total records in df: {n_df}\")"
   ]
  },
  {
   "cell_type": "code",
   "execution_count": 9,
   "metadata": {},
   "outputs": [
    {
     "name": "stdout",
     "output_type": "stream",
     "text": [
      "demand_status has the highest NaNs in dataset (81.62%)\n"
     ]
    }
   ],
   "source": [
    "demand_status_nan_perc = df[\"demand_status\"].isna().sum() / n_df\n",
    "print(f\"demand_status has the highest NaNs in dataset ({round(100*demand_status_nan_perc, 2)}%)\")"
   ]
  },
  {
   "attachments": {},
   "cell_type": "markdown",
   "metadata": {},
   "source": [
    "_We can see that **demand_status** has the highest NaNs in the dataset but we'll leave it like that to see if we can get some extra insights for when we do have demand statuses available_"
   ]
  },
  {
   "attachments": {},
   "cell_type": "markdown",
   "metadata": {},
   "source": [
    "### Field check & cleanup"
   ]
  },
  {
   "attachments": {},
   "cell_type": "markdown",
   "metadata": {},
   "source": [
    "### Categoricals"
   ]
  },
  {
   "attachments": {},
   "cell_type": "markdown",
   "metadata": {},
   "source": [
    "#### Country"
   ]
  },
  {
   "cell_type": "code",
   "execution_count": 10,
   "metadata": {},
   "outputs": [
    {
     "name": "stdout",
     "output_type": "stream",
     "text": [
      "total records in country: 10020\n"
     ]
    }
   ],
   "source": [
    "# check if all columns have the \"from\" str\n",
    "country_len = len(df[\"country\"])\n",
    "print(f\"total records in country: {country_len}\")"
   ]
  },
  {
   "cell_type": "code",
   "execution_count": 12,
   "metadata": {},
   "outputs": [
    {
     "name": "stdout",
     "output_type": "stream",
     "text": [
      "total rows with 'from' string in country columb: 10020\n"
     ]
    }
   ],
   "source": [
    "from_counter = 0\n",
    "for index, row in df.iterrows():\n",
    "    if \"from\" in row[\"country\"]:\n",
    "        from_counter += 1\n",
    "\n",
    "print(f\"total rows with 'from' string in country columb: {from_counter}\")"
   ]
  },
  {
   "cell_type": "code",
   "execution_count": 14,
   "metadata": {},
   "outputs": [
    {
     "data": {
      "text/html": [
       "<div>\n",
       "<style scoped>\n",
       "    .dataframe tbody tr th:only-of-type {\n",
       "        vertical-align: middle;\n",
       "    }\n",
       "\n",
       "    .dataframe tbody tr th {\n",
       "        vertical-align: top;\n",
       "    }\n",
       "\n",
       "    .dataframe thead th {\n",
       "        text-align: right;\n",
       "    }\n",
       "</style>\n",
       "<table border=\"1\" class=\"dataframe\">\n",
       "  <thead>\n",
       "    <tr style=\"text-align: right;\">\n",
       "      <th></th>\n",
       "      <th>product_name</th>\n",
       "      <th>price</th>\n",
       "      <th>country</th>\n",
       "      <th>condition</th>\n",
       "      <th>shipping_cost</th>\n",
       "      <th>demand_status</th>\n",
       "      <th>url</th>\n",
       "    </tr>\n",
       "  </thead>\n",
       "  <tbody>\n",
       "    <tr>\n",
       "      <th>0</th>\n",
       "      <td>🔥Star Wars Vintage Collection ARC Commander Ha...</td>\n",
       "      <td>$32.90</td>\n",
       "      <td>Malaysia</td>\n",
       "      <td>Brand New</td>\n",
       "      <td>+$18.00 shipping</td>\n",
       "      <td>Last one</td>\n",
       "      <td>https://www.ebay.com/itm/144937682104?hash=ite...</td>\n",
       "    </tr>\n",
       "    <tr>\n",
       "      <th>1</th>\n",
       "      <td>Star Wars Vintage Collection Mandalorian Super...</td>\n",
       "      <td>$19.99</td>\n",
       "      <td>United States</td>\n",
       "      <td>Brand New</td>\n",
       "      <td>+$13.35 shipping</td>\n",
       "      <td>85 sold</td>\n",
       "      <td>https://www.ebay.com/itm/394251731939?epid=190...</td>\n",
       "    </tr>\n",
       "    <tr>\n",
       "      <th>2</th>\n",
       "      <td>Star Wars Vintage Collection Dark Trooper (The...</td>\n",
       "      <td>$28.99</td>\n",
       "      <td>United States</td>\n",
       "      <td>Brand New</td>\n",
       "      <td>+$18.70 shipping</td>\n",
       "      <td>71 watchers</td>\n",
       "      <td>https://www.ebay.com/itm/125700558379?hash=ite...</td>\n",
       "    </tr>\n",
       "    <tr>\n",
       "      <th>3</th>\n",
       "      <td>Star Wars Vintage Collection Deathwatch Mandal...</td>\n",
       "      <td>$15.49</td>\n",
       "      <td>United States</td>\n",
       "      <td>Brand New</td>\n",
       "      <td>+$13.28 shipping</td>\n",
       "      <td>Almost gone</td>\n",
       "      <td>https://www.ebay.com/itm/125636022875?hash=ite...</td>\n",
       "    </tr>\n",
       "    <tr>\n",
       "      <th>4</th>\n",
       "      <td>STAR WARS Vintage Collection VC34 Jango Fett A...</td>\n",
       "      <td>$141.50</td>\n",
       "      <td>United States</td>\n",
       "      <td>Brand New</td>\n",
       "      <td>+$25.17 shipping</td>\n",
       "      <td>NaN</td>\n",
       "      <td>https://www.ebay.com/itm/295529080278?hash=ite...</td>\n",
       "    </tr>\n",
       "  </tbody>\n",
       "</table>\n",
       "</div>"
      ],
      "text/plain": [
       "                                        product_name    price        country  \\\n",
       "0  🔥Star Wars Vintage Collection ARC Commander Ha...   $32.90       Malaysia   \n",
       "1  Star Wars Vintage Collection Mandalorian Super...   $19.99  United States   \n",
       "2  Star Wars Vintage Collection Dark Trooper (The...   $28.99  United States   \n",
       "3  Star Wars Vintage Collection Deathwatch Mandal...   $15.49  United States   \n",
       "4  STAR WARS Vintage Collection VC34 Jango Fett A...  $141.50  United States   \n",
       "\n",
       "   condition     shipping_cost demand_status  \\\n",
       "0  Brand New  +$18.00 shipping      Last one   \n",
       "1  Brand New  +$13.35 shipping       85 sold   \n",
       "2  Brand New  +$18.70 shipping   71 watchers   \n",
       "3  Brand New  +$13.28 shipping   Almost gone   \n",
       "4  Brand New  +$25.17 shipping           NaN   \n",
       "\n",
       "                                                 url  \n",
       "0  https://www.ebay.com/itm/144937682104?hash=ite...  \n",
       "1  https://www.ebay.com/itm/394251731939?epid=190...  \n",
       "2  https://www.ebay.com/itm/125700558379?hash=ite...  \n",
       "3  https://www.ebay.com/itm/125636022875?hash=ite...  \n",
       "4  https://www.ebay.com/itm/295529080278?hash=ite...  "
      ]
     },
     "execution_count": 14,
     "metadata": {},
     "output_type": "execute_result"
    }
   ],
   "source": [
    "df[\"country\"] = df[\"country\"].map(lambda x: x.strip(\"from \"))\n",
    "df.head()"
   ]
  },
  {
   "cell_type": "code",
   "execution_count": 15,
   "metadata": {},
   "outputs": [
    {
     "data": {
      "text/html": [
       "<div>\n",
       "<style scoped>\n",
       "    .dataframe tbody tr th:only-of-type {\n",
       "        vertical-align: middle;\n",
       "    }\n",
       "\n",
       "    .dataframe tbody tr th {\n",
       "        vertical-align: top;\n",
       "    }\n",
       "\n",
       "    .dataframe thead th {\n",
       "        text-align: right;\n",
       "    }\n",
       "</style>\n",
       "<table border=\"1\" class=\"dataframe\">\n",
       "  <thead>\n",
       "    <tr style=\"text-align: right;\">\n",
       "      <th></th>\n",
       "      <th>index</th>\n",
       "      <th>country</th>\n",
       "    </tr>\n",
       "  </thead>\n",
       "  <tbody>\n",
       "    <tr>\n",
       "      <th>0</th>\n",
       "      <td>United States</td>\n",
       "      <td>9031</td>\n",
       "    </tr>\n",
       "    <tr>\n",
       "      <th>1</th>\n",
       "      <td>Australia</td>\n",
       "      <td>429</td>\n",
       "    </tr>\n",
       "    <tr>\n",
       "      <th>2</th>\n",
       "      <td>Taiwan</td>\n",
       "      <td>208</td>\n",
       "    </tr>\n",
       "    <tr>\n",
       "      <th>3</th>\n",
       "      <td>Canada</td>\n",
       "      <td>166</td>\n",
       "    </tr>\n",
       "    <tr>\n",
       "      <th>4</th>\n",
       "      <td>Japan</td>\n",
       "      <td>59</td>\n",
       "    </tr>\n",
       "    <tr>\n",
       "      <th>5</th>\n",
       "      <td>Malaysia</td>\n",
       "      <td>28</td>\n",
       "    </tr>\n",
       "    <tr>\n",
       "      <th>6</th>\n",
       "      <td>United Kingd</td>\n",
       "      <td>23</td>\n",
       "    </tr>\n",
       "    <tr>\n",
       "      <th>7</th>\n",
       "      <td>Greece</td>\n",
       "      <td>13</td>\n",
       "    </tr>\n",
       "    <tr>\n",
       "      <th>8</th>\n",
       "      <td>Singapore</td>\n",
       "      <td>12</td>\n",
       "    </tr>\n",
       "    <tr>\n",
       "      <th>9</th>\n",
       "      <td>Hong Kong</td>\n",
       "      <td>11</td>\n",
       "    </tr>\n",
       "    <tr>\n",
       "      <th>10</th>\n",
       "      <td>Thailand</td>\n",
       "      <td>11</td>\n",
       "    </tr>\n",
       "    <tr>\n",
       "      <th>11</th>\n",
       "      <td>Romania</td>\n",
       "      <td>6</td>\n",
       "    </tr>\n",
       "    <tr>\n",
       "      <th>12</th>\n",
       "      <td>Germany</td>\n",
       "      <td>4</td>\n",
       "    </tr>\n",
       "    <tr>\n",
       "      <th>13</th>\n",
       "      <td>Switzerland</td>\n",
       "      <td>4</td>\n",
       "    </tr>\n",
       "    <tr>\n",
       "      <th>14</th>\n",
       "      <td>Mexic</td>\n",
       "      <td>3</td>\n",
       "    </tr>\n",
       "    <tr>\n",
       "      <th>15</th>\n",
       "      <td>Korea, South</td>\n",
       "      <td>2</td>\n",
       "    </tr>\n",
       "    <tr>\n",
       "      <th>16</th>\n",
       "      <td>Spain</td>\n",
       "      <td>2</td>\n",
       "    </tr>\n",
       "    <tr>\n",
       "      <th>17</th>\n",
       "      <td>Italy</td>\n",
       "      <td>2</td>\n",
       "    </tr>\n",
       "    <tr>\n",
       "      <th>18</th>\n",
       "      <td>France</td>\n",
       "      <td>1</td>\n",
       "    </tr>\n",
       "    <tr>\n",
       "      <th>19</th>\n",
       "      <td>China</td>\n",
       "      <td>1</td>\n",
       "    </tr>\n",
       "    <tr>\n",
       "      <th>20</th>\n",
       "      <td>Ireland</td>\n",
       "      <td>1</td>\n",
       "    </tr>\n",
       "    <tr>\n",
       "      <th>21</th>\n",
       "      <td>Netherlands</td>\n",
       "      <td>1</td>\n",
       "    </tr>\n",
       "    <tr>\n",
       "      <th>22</th>\n",
       "      <td>Jordan</td>\n",
       "      <td>1</td>\n",
       "    </tr>\n",
       "    <tr>\n",
       "      <th>23</th>\n",
       "      <td>Poland</td>\n",
       "      <td>1</td>\n",
       "    </tr>\n",
       "  </tbody>\n",
       "</table>\n",
       "</div>"
      ],
      "text/plain": [
       "            index  country\n",
       "0   United States     9031\n",
       "1       Australia      429\n",
       "2          Taiwan      208\n",
       "3          Canada      166\n",
       "4           Japan       59\n",
       "5        Malaysia       28\n",
       "6    United Kingd       23\n",
       "7          Greece       13\n",
       "8       Singapore       12\n",
       "9       Hong Kong       11\n",
       "10       Thailand       11\n",
       "11        Romania        6\n",
       "12        Germany        4\n",
       "13    Switzerland        4\n",
       "14          Mexic        3\n",
       "15   Korea, South        2\n",
       "16          Spain        2\n",
       "17          Italy        2\n",
       "18         France        1\n",
       "19          China        1\n",
       "20        Ireland        1\n",
       "21    Netherlands        1\n",
       "22         Jordan        1\n",
       "23         Poland        1"
      ]
     },
     "execution_count": 15,
     "metadata": {},
     "output_type": "execute_result"
    }
   ],
   "source": [
    "country_freqs = df.country.value_counts()\n",
    "df_country_freqs = pd.DataFrame(country_freqs).reset_index()\n",
    "df_country_freqs"
   ]
  },
  {
   "attachments": {},
   "cell_type": "markdown",
   "metadata": {},
   "source": [
    "#### Condition"
   ]
  },
  {
   "cell_type": "code",
   "execution_count": 11,
   "metadata": {},
   "outputs": [
    {
     "data": {
      "text/html": [
       "<div>\n",
       "<style scoped>\n",
       "    .dataframe tbody tr th:only-of-type {\n",
       "        vertical-align: middle;\n",
       "    }\n",
       "\n",
       "    .dataframe tbody tr th {\n",
       "        vertical-align: top;\n",
       "    }\n",
       "\n",
       "    .dataframe thead th {\n",
       "        text-align: right;\n",
       "    }\n",
       "</style>\n",
       "<table border=\"1\" class=\"dataframe\">\n",
       "  <thead>\n",
       "    <tr style=\"text-align: right;\">\n",
       "      <th></th>\n",
       "      <th>index</th>\n",
       "      <th>condition</th>\n",
       "    </tr>\n",
       "  </thead>\n",
       "  <tbody>\n",
       "    <tr>\n",
       "      <th>0</th>\n",
       "      <td>Brand New</td>\n",
       "      <td>8671</td>\n",
       "    </tr>\n",
       "    <tr>\n",
       "      <th>1</th>\n",
       "      <td>Pre-Owned</td>\n",
       "      <td>1349</td>\n",
       "    </tr>\n",
       "  </tbody>\n",
       "</table>\n",
       "</div>"
      ],
      "text/plain": [
       "       index  condition\n",
       "0  Brand New       8671\n",
       "1  Pre-Owned       1349"
      ]
     },
     "execution_count": 11,
     "metadata": {},
     "output_type": "execute_result"
    }
   ],
   "source": [
    "# get frequency of conditions\n",
    "condition_freqs = df.condition.value_counts()\n",
    "df_condition_freqs = pd.DataFrame(condition_freqs).reset_index()\n",
    "df_condition_freqs"
   ]
  },
  {
   "attachments": {},
   "cell_type": "markdown",
   "metadata": {},
   "source": [
    "### Numericals"
   ]
  },
  {
   "attachments": {},
   "cell_type": "markdown",
   "metadata": {},
   "source": [
    "#### Price"
   ]
  },
  {
   "cell_type": "code",
   "execution_count": null,
   "metadata": {},
   "outputs": [],
   "source": []
  },
  {
   "cell_type": "code",
   "execution_count": null,
   "metadata": {},
   "outputs": [],
   "source": []
  },
  {
   "attachments": {},
   "cell_type": "markdown",
   "metadata": {},
   "source": [
    "#### Shipping Cost"
   ]
  },
  {
   "cell_type": "markdown",
   "metadata": {},
   "source": []
  }
 ],
 "metadata": {
  "kernelspec": {
   "display_name": "base",
   "language": "python",
   "name": "python3"
  },
  "language_info": {
   "codemirror_mode": {
    "name": "ipython",
    "version": 3
   },
   "file_extension": ".py",
   "mimetype": "text/x-python",
   "name": "python",
   "nbconvert_exporter": "python",
   "pygments_lexer": "ipython3",
   "version": "3.9.7"
  },
  "orig_nbformat": 4,
  "vscode": {
   "interpreter": {
    "hash": "ffbc204dd653463d8c4ec77a03b1902ad377393a45d21ba8b6b08777766eebb0"
   }
  }
 },
 "nbformat": 4,
 "nbformat_minor": 2
}
